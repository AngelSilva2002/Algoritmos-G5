{
  "cells": [
    {
      "cell_type": "markdown",
      "metadata": {
        "id": "41TXUwo9qaCK"
      },
      "source": [
        "###Codigo e implementación https://github.com/Psychofun/Red-Neuronal-Numpy\n",
        "Autor: PsyFun\n",
        "##Preprocesamiento de los datos, para estandarizar (\"gre\",\"gpa\") e individualizar la caracteristica categorica \"rank\""
      ]
    },
    {
      "cell_type": "code",
      "source": [
        "from google.colab import files\n",
        "uploaded = files.upload()"
      ],
      "metadata": {
        "colab": {
          "base_uri": "https://localhost:8080/",
          "height": 74
        },
        "id": "gAHnog1UrNzG",
        "outputId": "31054ebc-7083-4967-e865-66b01386018a"
      },
      "execution_count": 24,
      "outputs": [
        {
          "output_type": "display_data",
          "data": {
            "text/plain": [
              "<IPython.core.display.HTML object>"
            ],
            "text/html": [
              "\n",
              "     <input type=\"file\" id=\"files-aec43fbe-43af-49aa-a04a-db098aa120b4\" name=\"files[]\" multiple disabled\n",
              "        style=\"border:none\" />\n",
              "     <output id=\"result-aec43fbe-43af-49aa-a04a-db098aa120b4\">\n",
              "      Upload widget is only available when the cell has been executed in the\n",
              "      current browser session. Please rerun this cell to enable.\n",
              "      </output>\n",
              "      <script>// Copyright 2017 Google LLC\n",
              "//\n",
              "// Licensed under the Apache License, Version 2.0 (the \"License\");\n",
              "// you may not use this file except in compliance with the License.\n",
              "// You may obtain a copy of the License at\n",
              "//\n",
              "//      http://www.apache.org/licenses/LICENSE-2.0\n",
              "//\n",
              "// Unless required by applicable law or agreed to in writing, software\n",
              "// distributed under the License is distributed on an \"AS IS\" BASIS,\n",
              "// WITHOUT WARRANTIES OR CONDITIONS OF ANY KIND, either express or implied.\n",
              "// See the License for the specific language governing permissions and\n",
              "// limitations under the License.\n",
              "\n",
              "/**\n",
              " * @fileoverview Helpers for google.colab Python module.\n",
              " */\n",
              "(function(scope) {\n",
              "function span(text, styleAttributes = {}) {\n",
              "  const element = document.createElement('span');\n",
              "  element.textContent = text;\n",
              "  for (const key of Object.keys(styleAttributes)) {\n",
              "    element.style[key] = styleAttributes[key];\n",
              "  }\n",
              "  return element;\n",
              "}\n",
              "\n",
              "// Max number of bytes which will be uploaded at a time.\n",
              "const MAX_PAYLOAD_SIZE = 100 * 1024;\n",
              "\n",
              "function _uploadFiles(inputId, outputId) {\n",
              "  const steps = uploadFilesStep(inputId, outputId);\n",
              "  const outputElement = document.getElementById(outputId);\n",
              "  // Cache steps on the outputElement to make it available for the next call\n",
              "  // to uploadFilesContinue from Python.\n",
              "  outputElement.steps = steps;\n",
              "\n",
              "  return _uploadFilesContinue(outputId);\n",
              "}\n",
              "\n",
              "// This is roughly an async generator (not supported in the browser yet),\n",
              "// where there are multiple asynchronous steps and the Python side is going\n",
              "// to poll for completion of each step.\n",
              "// This uses a Promise to block the python side on completion of each step,\n",
              "// then passes the result of the previous step as the input to the next step.\n",
              "function _uploadFilesContinue(outputId) {\n",
              "  const outputElement = document.getElementById(outputId);\n",
              "  const steps = outputElement.steps;\n",
              "\n",
              "  const next = steps.next(outputElement.lastPromiseValue);\n",
              "  return Promise.resolve(next.value.promise).then((value) => {\n",
              "    // Cache the last promise value to make it available to the next\n",
              "    // step of the generator.\n",
              "    outputElement.lastPromiseValue = value;\n",
              "    return next.value.response;\n",
              "  });\n",
              "}\n",
              "\n",
              "/**\n",
              " * Generator function which is called between each async step of the upload\n",
              " * process.\n",
              " * @param {string} inputId Element ID of the input file picker element.\n",
              " * @param {string} outputId Element ID of the output display.\n",
              " * @return {!Iterable<!Object>} Iterable of next steps.\n",
              " */\n",
              "function* uploadFilesStep(inputId, outputId) {\n",
              "  const inputElement = document.getElementById(inputId);\n",
              "  inputElement.disabled = false;\n",
              "\n",
              "  const outputElement = document.getElementById(outputId);\n",
              "  outputElement.innerHTML = '';\n",
              "\n",
              "  const pickedPromise = new Promise((resolve) => {\n",
              "    inputElement.addEventListener('change', (e) => {\n",
              "      resolve(e.target.files);\n",
              "    });\n",
              "  });\n",
              "\n",
              "  const cancel = document.createElement('button');\n",
              "  inputElement.parentElement.appendChild(cancel);\n",
              "  cancel.textContent = 'Cancel upload';\n",
              "  const cancelPromise = new Promise((resolve) => {\n",
              "    cancel.onclick = () => {\n",
              "      resolve(null);\n",
              "    };\n",
              "  });\n",
              "\n",
              "  // Wait for the user to pick the files.\n",
              "  const files = yield {\n",
              "    promise: Promise.race([pickedPromise, cancelPromise]),\n",
              "    response: {\n",
              "      action: 'starting',\n",
              "    }\n",
              "  };\n",
              "\n",
              "  cancel.remove();\n",
              "\n",
              "  // Disable the input element since further picks are not allowed.\n",
              "  inputElement.disabled = true;\n",
              "\n",
              "  if (!files) {\n",
              "    return {\n",
              "      response: {\n",
              "        action: 'complete',\n",
              "      }\n",
              "    };\n",
              "  }\n",
              "\n",
              "  for (const file of files) {\n",
              "    const li = document.createElement('li');\n",
              "    li.append(span(file.name, {fontWeight: 'bold'}));\n",
              "    li.append(span(\n",
              "        `(${file.type || 'n/a'}) - ${file.size} bytes, ` +\n",
              "        `last modified: ${\n",
              "            file.lastModifiedDate ? file.lastModifiedDate.toLocaleDateString() :\n",
              "                                    'n/a'} - `));\n",
              "    const percent = span('0% done');\n",
              "    li.appendChild(percent);\n",
              "\n",
              "    outputElement.appendChild(li);\n",
              "\n",
              "    const fileDataPromise = new Promise((resolve) => {\n",
              "      const reader = new FileReader();\n",
              "      reader.onload = (e) => {\n",
              "        resolve(e.target.result);\n",
              "      };\n",
              "      reader.readAsArrayBuffer(file);\n",
              "    });\n",
              "    // Wait for the data to be ready.\n",
              "    let fileData = yield {\n",
              "      promise: fileDataPromise,\n",
              "      response: {\n",
              "        action: 'continue',\n",
              "      }\n",
              "    };\n",
              "\n",
              "    // Use a chunked sending to avoid message size limits. See b/62115660.\n",
              "    let position = 0;\n",
              "    do {\n",
              "      const length = Math.min(fileData.byteLength - position, MAX_PAYLOAD_SIZE);\n",
              "      const chunk = new Uint8Array(fileData, position, length);\n",
              "      position += length;\n",
              "\n",
              "      const base64 = btoa(String.fromCharCode.apply(null, chunk));\n",
              "      yield {\n",
              "        response: {\n",
              "          action: 'append',\n",
              "          file: file.name,\n",
              "          data: base64,\n",
              "        },\n",
              "      };\n",
              "\n",
              "      let percentDone = fileData.byteLength === 0 ?\n",
              "          100 :\n",
              "          Math.round((position / fileData.byteLength) * 100);\n",
              "      percent.textContent = `${percentDone}% done`;\n",
              "\n",
              "    } while (position < fileData.byteLength);\n",
              "  }\n",
              "\n",
              "  // All done.\n",
              "  yield {\n",
              "    response: {\n",
              "      action: 'complete',\n",
              "    }\n",
              "  };\n",
              "}\n",
              "\n",
              "scope.google = scope.google || {};\n",
              "scope.google.colab = scope.google.colab || {};\n",
              "scope.google.colab._files = {\n",
              "  _uploadFiles,\n",
              "  _uploadFilesContinue,\n",
              "};\n",
              "})(self);\n",
              "</script> "
            ]
          },
          "metadata": {}
        },
        {
          "output_type": "stream",
          "name": "stdout",
          "text": [
            "Saving binary.csv to binary (1).csv\n"
          ]
        }
      ]
    },
    {
      "cell_type": "code",
      "execution_count": 25,
      "metadata": {
        "colab": {
          "base_uri": "https://localhost:8080/"
        },
        "id": "AJZTjn-Jk-NB",
        "outputId": "fc28489e-88f0-4c27-ab17-2aad7149dae7"
      },
      "outputs": [
        {
          "output_type": "stream",
          "name": "stdout",
          "text": [
            "            admit         gre         gpa       rank\n",
            "count  400.000000  400.000000  400.000000  400.00000\n",
            "mean     0.317500  587.700000    3.389900    2.48500\n",
            "std      0.466087  115.516536    0.380567    0.94446\n",
            "min      0.000000  220.000000    2.260000    1.00000\n",
            "25%      0.000000  520.000000    3.130000    2.00000\n",
            "50%      0.000000  580.000000    3.395000    2.00000\n",
            "75%      1.000000  660.000000    3.670000    3.00000\n",
            "max      1.000000  800.000000    4.000000    4.00000\n",
            "(400, 4)\n",
            "   admit  gre   gpa  rank\n",
            "0      0  380  3.61     3\n",
            "1      1  660  3.67     3\n",
            "2      1  800  4.00     1\n",
            "3      1  640  3.19     4\n",
            "4      0  520  2.93     4\n"
          ]
        }
      ],
      "source": [
        "import numpy as np\n",
        "import matplotlib.pyplot as plt\n",
        "import pandas as pd\n",
        "import io\n",
        "\n",
        "admissions = pd.read_csv(io.BytesIO(uploaded['binary.csv']))                    #O(1)\n",
        "print(admissions.describe())                                                    #O(1)\n",
        "print(admissions.shape)                                                         #O(1)\n",
        "print(admissions.head())                                                        #O(1)"
      ]
    },
    {
      "cell_type": "markdown",
      "metadata": {
        "id": "U9XG_Iz8sAaa"
      },
      "source": [
        "#Conversion de una variable categorica \"rank\" a variables binarias \"rank_1\",\"rank_2\",\"rank_3\", \"rank_4\""
      ]
    },
    {
      "cell_type": "code",
      "execution_count": 26,
      "metadata": {
        "colab": {
          "base_uri": "https://localhost:8080/"
        },
        "id": "FcgNCowrsIVz",
        "outputId": "5798b065-23cd-466e-93c8-3737f617fb84"
      },
      "outputs": [
        {
          "output_type": "stream",
          "name": "stdout",
          "text": [
            "            admit         gre         gpa       rank      rank_1      rank_2  \\\n",
            "count  400.000000  400.000000  400.000000  400.00000  400.000000  400.000000   \n",
            "mean     0.317500  587.700000    3.389900    2.48500    0.152500    0.377500   \n",
            "std      0.466087  115.516536    0.380567    0.94446    0.359955    0.485369   \n",
            "min      0.000000  220.000000    2.260000    1.00000    0.000000    0.000000   \n",
            "25%      0.000000  520.000000    3.130000    2.00000    0.000000    0.000000   \n",
            "50%      0.000000  580.000000    3.395000    2.00000    0.000000    0.000000   \n",
            "75%      1.000000  660.000000    3.670000    3.00000    0.000000    1.000000   \n",
            "max      1.000000  800.000000    4.000000    4.00000    1.000000    1.000000   \n",
            "\n",
            "           rank_3      rank_4  \n",
            "count  400.000000  400.000000  \n",
            "mean     0.302500    0.167500  \n",
            "std      0.459916    0.373889  \n",
            "min      0.000000    0.000000  \n",
            "25%      0.000000    0.000000  \n",
            "50%      0.000000    0.000000  \n",
            "75%      1.000000    0.000000  \n",
            "max      1.000000    1.000000  \n",
            "(400, 7)\n",
            "   admit  gre   gpa  rank_1  rank_2  rank_3  rank_4\n",
            "0      0  380  3.61       0       0       1       0\n",
            "1      1  660  3.67       0       0       1       0\n",
            "2      1  800  4.00       1       0       0       0\n",
            "3      1  640  3.19       0       0       0       1\n",
            "4      0  520  2.93       0       0       0       1\n"
          ]
        }
      ],
      "source": [
        "data = pd.concat([admissions, pd.get_dummies(admissions['rank'], prefix='rank')], axis=1)  #O(1)\n",
        "print(data.describe())                                                                     #O(1)\n",
        "data = data.drop('rank', axis=1)                                                           #O(1)\n",
        "print(data.shape)                                                                          #O(1)\n",
        "print(data.head())                                                                         #O(1)"
      ]
    },
    {
      "cell_type": "markdown",
      "metadata": {
        "id": "fmEtWaKru5at"
      },
      "source": [
        "Estandarizacion de las variables (\"gre\",\"gpa\")"
      ]
    },
    {
      "cell_type": "code",
      "execution_count": 27,
      "metadata": {
        "colab": {
          "base_uri": "https://localhost:8080/"
        },
        "id": "X5SSkXX3u5nl",
        "outputId": "db53e048-e893-49e9-8c00-45ed446b4c09"
      },
      "outputs": [
        {
          "output_type": "stream",
          "name": "stdout",
          "text": [
            "(400, 7)\n",
            "            admit           gre           gpa      rank_1      rank_2  \\\n",
            "count  400.000000  4.000000e+02  4.000000e+02  400.000000  400.000000   \n",
            "mean     0.317500 -3.907985e-16  2.198242e-16    0.152500    0.377500   \n",
            "std      0.466087  1.000000e+00  1.000000e+00    0.359955    0.485369   \n",
            "min      0.000000 -3.183094e+00 -2.968993e+00    0.000000    0.000000   \n",
            "25%      0.000000 -5.860633e-01 -6.829288e-01    0.000000    0.000000   \n",
            "50%      0.000000 -6.665712e-02  1.340106e-02    0.000000    0.000000   \n",
            "75%      1.000000  6.258844e-01  7.360075e-01    0.000000    1.000000   \n",
            "max      1.000000  1.837832e+00  1.603135e+00    1.000000    1.000000   \n",
            "\n",
            "           rank_3      rank_4  \n",
            "count  400.000000  400.000000  \n",
            "mean     0.302500    0.167500  \n",
            "std      0.459916    0.373889  \n",
            "min      0.000000    0.000000  \n",
            "25%      0.000000    0.000000  \n",
            "50%      0.000000    0.000000  \n",
            "75%      1.000000    0.000000  \n",
            "max      1.000000    1.000000  \n"
          ]
        }
      ],
      "source": [
        "# Standarize features\n",
        "for field in ['gre', 'gpa']:                                   #O(n)\n",
        "    mean, std = data[field].mean(), data[field].std()          #O(1)\n",
        "    data.loc[:,field] = (data[field]-mean)/std                 #O(1)\n",
        "print(data.shape)                                              #O(1)\n",
        "print(data.describe())                                         #O(1)"
      ]
    },
    {
      "cell_type": "markdown",
      "metadata": {
        "id": "PVB1VUJJ3bSb"
      },
      "source": [
        "dividir el conjunto de datos para entrenamiento y evaluación del modelo"
      ]
    },
    {
      "cell_type": "code",
      "execution_count": 28,
      "metadata": {
        "colab": {
          "base_uri": "https://localhost:8080/"
        },
        "id": "tPSE6sC84O8F",
        "outputId": "e2f85c02-0c01-4f41-e117-6ebf1cf77bed"
      },
      "outputs": [
        {
          "output_type": "stream",
          "name": "stdout",
          "text": [
            "RangeIndex(start=0, stop=400, step=1)\n"
          ]
        }
      ],
      "source": [
        "print(data.index)          #O(1)"
      ]
    },
    {
      "cell_type": "code",
      "execution_count": 29,
      "metadata": {
        "colab": {
          "base_uri": "https://localhost:8080/"
        },
        "id": "SylZqIL930bt",
        "outputId": "2a400a6b-27fd-4ba8-e64a-3c93bf98f101"
      },
      "outputs": [
        {
          "output_type": "stream",
          "name": "stdout",
          "text": [
            "(360, 7)\n",
            "(40, 7)\n"
          ]
        }
      ],
      "source": [
        "# Split off random 10% of the data for testing\n",
        "np.random.seed(21)                                                              #O(1)\n",
        "\n",
        "sample = np.random.choice(data.index, size=int(len(data)*0.9), replace=False)   #O(1)\n",
        "train_data, test_data = data.iloc[sample], data.drop(sample)                    #O(1)\n",
        "print(train_data.shape)                                                         #O(1)\n",
        "print(test_data.shape)                                                          #O(1)"
      ]
    },
    {
      "cell_type": "markdown",
      "metadata": {
        "id": "J1pEVm7X473r"
      },
      "source": [
        "División de los datos en caracteristicas y etiquetas"
      ]
    },
    {
      "cell_type": "code",
      "execution_count": 30,
      "metadata": {
        "id": "vdlScpB946Py"
      },
      "outputs": [],
      "source": [
        "features, targets = train_data.drop('admit', axis=1), train_data['admit']                     #O(1)\n",
        "features_test, targets_test = test_data.drop('admit', axis=1), test_data['admit']             #O(1)     "
      ]
    },
    {
      "cell_type": "markdown",
      "metadata": {
        "id": "WKkMs94U5MBm"
      },
      "source": []
    },
    {
      "cell_type": "markdown",
      "metadata": {
        "id": "6GDBHBbT5WtC"
      },
      "source": [
        "Función de Activación"
      ]
    },
    {
      "cell_type": "code",
      "execution_count": 31,
      "metadata": {
        "id": "3X5cn6oa5amd"
      },
      "outputs": [],
      "source": [
        "def sigmoide(x):\n",
        "    return 1/(1 + np.exp(-x))"
      ]
    },
    {
      "cell_type": "markdown",
      "source": [
        "Entrenamiento:\\\n",
        "Punto #2 \\\n",
        "Complejidad : \n",
        "\n",
        "*   9*O(1) + O(n)[2*O(1) + O(n)[6*O(1)] + 8*O(1)] + 5*O(1)\n",
        "*   O(n^2)\n",
        "\n",
        "Los parametros que más afectan el tiempo de ejecicion del entrenamiento son el número de iteraciones y el tamaño de datos que se muestran (train_data) ya que de estos depende la ejecucion de los ciclos for y por tanto entre mas grandes sean, mas tiempo de ejecución llevará el algoritmo de entrenamiento.\n",
        "\n",
        "\n",
        "\n",
        "\n"
      ],
      "metadata": {
        "id": "K7ohPfte5ilF"
      }
    },
    {
      "cell_type": "code",
      "execution_count": null,
      "metadata": {
        "colab": {
          "base_uri": "https://localhost:8080/"
        },
        "id": "_5PDFAdG5TIm",
        "outputId": "93595637-7b42-4116-e383-bf6dd7dc5a72"
      },
      "outputs": [
        {
          "output_type": "stream",
          "name": "stdout",
          "text": [
            "(6, 2)\n",
            "(2,)\n",
            "Costo de entrenamiento:  0.2527453489542154\n"
          ]
        }
      ],
      "source": [
        "# Hyperparameters\n",
        "n_hidden = 2 # Número de unidades en la capa escondida                                                 #O(1)\n",
        "epochs = 1000000000 # Número de iteraciones sobre el conjunto de entrenamiento                               #O(1)\n",
        "alpha = 0.01 # Taza de aprendizaje                                                                     #O(1)\n",
        "\n",
        "ult_costo = None                                                                                       #O(1)\n",
        "\n",
        "m,k = features.shape # Número de ejemplos de entrenamiento, número de dimensiones en los datos         #O(1)\n",
        "# Inicialización de los pesos\n",
        "entrada_escondida = np.random.normal(scale = 1/k**0.5,size = (k,n_hidden))                             #O(1)\n",
        "escondida_salida = np.random.normal(scale = 1/k**0.5,size = n_hidden)                                  #O(1)\n",
        "print(entrada_escondida.shape)                                                                         #O(1)\n",
        "print(escondida_salida.shape)                                                                          #O(1)\n",
        "# Entrenamiento\n",
        "for e in range(epochs):                                                                                #O(n)\n",
        "    # Variables para el gradiente\n",
        "    gradiente_entrada_escondida = np.zeros(entrada_escondida.shape)                                    #O(1)\n",
        "    gradiente_escondida_salida =  np.zeros(escondida_salida.shape)                                     #O(1)\n",
        "    # Itera sobre el conjunto de entrenamiento\n",
        "    for x,y in zip(features.values,targets):                                                           #O(n)\n",
        "        # Pasada hacia adelande (forward pass) or forward propagation\n",
        "        z = sigmoide(np.matmul(x, entrada_escondida))                                                  #O(1)\n",
        "        y_ =sigmoide(np.matmul(escondida_salida,z)) # predicción                                       #O(1)\n",
        "        # Pasada hacia atrás (backward pass)\n",
        "        salida_error = (y - y_) * y_ *(1- y_) #error * derivada de la funcion sigmoide                 #O(1)\n",
        "        escondida_error = np.dot(salida_error, escondida_salida) * z * (1 -z)                          #O(1)\n",
        "\n",
        "        gradiente_entrada_escondida += escondida_error * x[:,None]                                     #O(1)\n",
        "        gradiente_escondida_salida += salida_error * z                                                 #O(1)\n",
        "    # Actualiza los parámetros (pesos)\n",
        "    entrada_escondida += alpha * gradiente_entrada_escondida / m  #alpha = tasa de aprendizaje         #O(1)\n",
        "    escondida_salida +=  alpha * gradiente_escondida_salida / m                                        #O(1)\n",
        "\n",
        "    if e % (epochs / 10 ) == 0:                                                                        #O(1)\n",
        "        z = sigmoide(np.dot(features.values, entrada_escondida))                                       #O(1)\n",
        "        y_ = sigmoide(np.dot(z, escondida_salida))                                                     #O(1)\n",
        "\n",
        "        # Función de costo\n",
        "        costo = np.mean(( y_ - targets)**2 )                                                           #O(1)\n",
        "\n",
        "        if ult_costo  and ult_costo < costo:                                                           #O(1)\n",
        "            print(\"Costo de  entrenamiento: \", costo, \" ADVERTENCIA -  Costo subiendo\")                #O(1)\n",
        "        else:\n",
        "            print(\"Costo de entrenamiento: \", costo )                                                  #O(1)\n",
        "        \n",
        "        ult_costo = costo                                                                              #O(1)\n",
        "\n",
        "#  Precisión en los datos de prueba \n",
        "z = sigmoide(np.dot(features_test, entrada_escondida))                                                 #O(1)\n",
        "y_ = sigmoide(np.dot(z, escondida_salida))                                                             #O(1)\n",
        "\n",
        "predicciones =  y_ > 0.5                                                                               #O(1)\n",
        "precision = np.mean(predicciones == targets_test)                                                      #O(1)\n",
        "print(\"Precisión: {:.3f}\".format(precision))                                                           #O(1)\n",
        "\n",
        "\n"
      ]
    },
    {
      "cell_type": "markdown",
      "source": [
        "Punto #3"
      ],
      "metadata": {
        "id": "InOKF4b9AkJT"
      }
    },
    {
      "cell_type": "code",
      "source": [
        "epochs = 50 # Número de iteraciones sobre el conjunto de entrenamiento   #O(1) \n",
        "precisions=[] \n",
        "# Inicialización de los pesos\n",
        "entradas_escondidas = []  \n",
        "entradas_escondidas.append(np.random.normal(scale = 1/k**0.5,size = (k,n_hidden)))                         #O(1)\n",
        "escondidas_salidas = []\n",
        "escondidas_salidas.append(np.random.normal(scale = 1/k**0.5,size = n_hidden))   \n",
        "\n",
        "                                                         #O(1)\n",
        "for i in range (epochs):\n",
        "  # Hyperparameters\n",
        "  n_hidden = 2 # Número de unidades en la capa escondida                                                 #O(1)\n",
        "  alpha = 0.01 # Taza de aprendizaje                                                                     #O(1)\n",
        "  ult_costo = None                                                                                       #O(1)\n",
        "\n",
        "  m,k = features.shape # Número de ejemplos de entrenamiento, número de dimensiones en los datos         #O(1)\n",
        "  escondida_salida = escondidas_salidas[i-1]\n",
        "  entrada_escondida = entradas_escondidas[i-1]\n",
        "                                 \n",
        "  # print(entrada_escondida.shape)                                                                         #O(1)\n",
        "  # print(escondida_salida.shape)                                                                          #O(1)\n",
        "  # Entrenamiento\n",
        "  for e in range(i):                                                                                #O(n)\n",
        "      # Variables para el gradiente\n",
        "      gradiente_entrada_escondida = np.zeros(entrada_escondida.shape)                                    #O(1)\n",
        "      gradiente_escondida_salida =  np.zeros(escondida_salida.shape)                                     #O(1)\n",
        "      # Itera sobre el conjunto de entrenamiento\n",
        "      for x,y in zip(features.values,targets):                                                           #O(n)\n",
        "          # Pasada hacia adelande (forward pass) or forward propagation\n",
        "          z = sigmoide(np.matmul(x, entrada_escondida))                                                  #O(1)\n",
        "          y_ =sigmoide(np.matmul(escondida_salida,z)) # predicción                                       #O(1)\n",
        "          # Pasada hacia atrás (backward pass)\n",
        "          salida_error = (y - y_) * y_ *(1- y_) #error * derivada de la funcion sigmoide                 #O(1)\n",
        "          escondida_error = np.dot(salida_error, escondida_salida) * z * (1 -z)                          #O(1)\n",
        "\n",
        "          gradiente_entrada_escondida += escondida_error * x[:,None]                                     #O(1)\n",
        "          gradiente_escondida_salida += salida_error * z                                                 #O(1)\n",
        "      # Actualiza los parámetros (pesos)\n",
        "      entrada_escondida += alpha * gradiente_entrada_escondida / m  #alpha = tasa de aprendizaje         #O(1)\n",
        "      escondida_salida +=  alpha * gradiente_escondida_salida / m \n",
        "      \n",
        "      entradas_escondidas.append(entrada_escondida)   \n",
        "      escondidas_salidas.append(escondida_salida)                                    #O(1)\n",
        "\n",
        "      if e % (i / 10 ) == 0:                                                                        #O(1)\n",
        "          z = sigmoide(np.dot(features.values, entrada_escondida))                                       #O(1)\n",
        "          y_ = sigmoide(np.dot(z, escondida_salida))                                                     #O(1)\n",
        "\n",
        "          # Función de costo\n",
        "          costo = np.mean(( y_ - targets)**2 )                                                           #O(1)\n",
        "\n",
        "          # if ult_costo  and ult_costo < costo:                                                           #O(1)\n",
        "          #     print(\"Costo de  entrenamiento: \", costo, \" ADVERTENCIA -  Costo subiendo\")                #O(1)\n",
        "          # else:\n",
        "          #     print(\"Costo de entrenamiento: \", costo )                                                  #O(1)\n",
        "          \n",
        "          ult_costo = costo                                                                              #O(1)\n",
        "\n",
        "  #  Precisión en los datos de prueba \n",
        "  z = sigmoide(np.dot(features_test, entrada_escondida))                                                 #O(1)\n",
        "  y_ = sigmoide(np.dot(z, escondida_salida))                                                             #O(1)\n",
        "\n",
        "  predicciones =  y_ > 0.5                                                                               #O(1)\n",
        "  precision = np.mean(predicciones == targets_test)                                                      #O(1)\n",
        "  precisions.append(precision)"
      ],
      "metadata": {
        "id": "-3-W46NZAnFa"
      },
      "execution_count": 40,
      "outputs": []
    },
    {
      "cell_type": "code",
      "source": [
        "y_axis = []\n",
        "x_axis=np.arange(0,epochs,1)\n",
        "\n",
        "for num in precisions:\n",
        "    y_axis.append(num)\n",
        "\n",
        "#Graficamos la poblacion Inicial\n",
        "for i in range (len(precisions)):                               \n",
        "  x = i                             \n",
        "  y = precisions[i]                                 \n",
        "  plt.plot(x,y,'-')                                       \n",
        "  plt.plot(x_axis,y_axis)                                \n",
        "titulo=\"Precisiones obtenidas de acuerdo al \\nnumero de iteraciones sobre el conjunto de datos\"                              \n",
        "plt.title(titulo)                                        \n",
        "plt.show()                                               \n",
        "print()                                                  "
      ],
      "metadata": {
        "colab": {
          "base_uri": "https://localhost:8080/",
          "height": 314
        },
        "id": "MgIWV4rUCHD_",
        "outputId": "b2ad9045-71cc-450d-9ded-f90dd860635f"
      },
      "execution_count": 41,
      "outputs": [
        {
          "output_type": "display_data",
          "data": {
            "text/plain": [
              "<Figure size 432x288 with 1 Axes>"
            ],
            "image/png": "[encoded data removed]"
          },
          "metadata": {
            "needs_background": "light"
          }
        },
        {
          "output_type": "stream",
          "name": "stdout",
          "text": [
            "\n"
          ]
        }
      ]
    },
    {
      "cell_type": "markdown",
      "source": [
        "Punto #4"
      ],
      "metadata": {
        "id": "4OlrnH6kDFS2"
      }
    },
    {
      "cell_type": "code",
      "source": [
        "#Funcion de activacion tanh\n",
        "def tanh(x):\n",
        "    return np.tanh(x)"
      ],
      "metadata": {
        "id": "1TtBvhkxDHYi"
      },
      "execution_count": null,
      "outputs": []
    },
    {
      "cell_type": "code",
      "source": [
        "#Derivada de funcion de activacion tanh\n",
        "def Diftanh(x):\n",
        "    return 1-tanh(x)**2"
      ],
      "metadata": {
        "id": "QTVU3xmoEIQw"
      },
      "execution_count": null,
      "outputs": []
    },
    {
      "cell_type": "code",
      "source": [
        "# Hyperparameters\n",
        "n_hidden = 2 # Número de unidades en la capa escondida                                                 #O(1)\n",
        "epochs = 1000 # Número de iteraciones sobre el conjunto de entrenamiento                               #O(1)\n",
        "alpha = 0.01 # Taza de aprendizaje                                                                     #O(1)\n",
        "\n",
        "ult_costo = None                                                                                       #O(1)\n",
        "\n",
        "m,k = features.shape # Número de ejemplos de entrenamiento, número de dimensiones en los datos         #O(1)\n",
        "# Inicialización de los pesos\n",
        "entrada_escondida = np.random.normal(scale = 1/k**0.5,size = (k,n_hidden))                             #O(1)\n",
        "escondida_salida = np.random.normal(scale = 1/k**0.5,size = n_hidden)                                  #O(1)\n",
        "print(entrada_escondida.shape)                                                                         #O(1)\n",
        "print(escondida_salida.shape)                                                                          #O(1)\n",
        "# Entrenamiento\n",
        "for e in range(epochs):                                                                                #O(n)\n",
        "    # Variables para el gradiente\n",
        "    gradiente_entrada_escondida = np.zeros(entrada_escondida.shape)                                    #O(1)\n",
        "    gradiente_escondida_salida =  np.zeros(escondida_salida.shape)                                     #O(1)\n",
        "    # Itera sobre el conjunto de entrenamiento\n",
        "    for x,y in zip(features.values,targets):                                                           #O(n)\n",
        "        # Pasada hacia adelande (forward pass) or forward propagation\n",
        "        z  = tanh(np.matmul(x, entrada_escondida))                                                     #O(1)\n",
        "        y_ = tanh(np.matmul(escondida_salida,z)) # predicción                                          #O(1)\n",
        "        # Pasada hacia atrás (backward pass)\n",
        "        #error * derivada de la funcion tanh\n",
        "        salida_error = (y - y_) * y_ *  Diftanh(np.matmul(escondida_salida,z))                         #O(1)\n",
        "        escondida_error = np.dot(salida_error, escondida_salida) * z * Diftanh(np.matmul(x, entrada_escondida))    #O(1)\n",
        "\n",
        "        gradiente_entrada_escondida += escondida_error * x[:,None]                                     #O(1)\n",
        "        gradiente_escondida_salida += salida_error * z                                                 #O(1)\n",
        "    # Actualiza los parámetros (pesos)\n",
        "    entrada_escondida += alpha * gradiente_entrada_escondida / m  #alpha = tasa de aprendizaje         #O(1)\n",
        "    escondida_salida +=  alpha * gradiente_escondida_salida / m                                        #O(1)\n",
        "\n",
        "    if e % (epochs / 10 ) == 0:                                                                        #O(1)\n",
        "        z = tanh(np.dot(features.values, entrada_escondida))                                       #O(1)\n",
        "        y_ = tanh(np.dot(z, escondida_salida))                                                     #O(1)\n",
        "\n",
        "        # Función de costo\n",
        "        costo = np.mean(( y_ - targets)**2 )                                                           #O(1)\n",
        "\n",
        "        if ult_costo  and ult_costo < costo:                                                           #O(1)\n",
        "            print(\"Costo de  entrenamiento: \", costo, \" ADVERTENCIA -  Costo subiendo\")                #O(1)\n",
        "        else:\n",
        "            print(\"Costo de entrenamiento: \", costo )                                                  #O(1)\n",
        "        \n",
        "        ult_costo = costo                                                                              #O(1)\n",
        "\n",
        "#  Precisión en los datos de prueba \n",
        "z = sigmoide(np.dot(features_test, entrada_escondida))                                                 #O(1)\n",
        "y_ = sigmoide(np.dot(z, escondida_salida))                                                             #O(1)\n",
        "\n",
        "predicciones =  y_ > 0.5                                                                               #O(1)\n",
        "precision = np.mean(predicciones == targets_test)                                                      #O(1)\n",
        "print(\"Precisión: {:.3f}\".format(precision))  "
      ],
      "metadata": {
        "colab": {
          "base_uri": "https://localhost:8080/"
        },
        "id": "JbivkrPXDftT",
        "outputId": "4a4570ba-ebba-4450-dadb-58191c13ec8a"
      },
      "execution_count": null,
      "outputs": [
        {
          "output_type": "stream",
          "name": "stdout",
          "text": [
            "(6, 2)\n",
            "(2,)\n",
            "Costo de entrenamiento:  0.3635322983467658\n",
            "Costo de  entrenamiento:  0.37260530857265023  ADVERTENCIA -  Costo subiendo\n",
            "Costo de  entrenamiento:  0.3835279980220487  ADVERTENCIA -  Costo subiendo\n",
            "Costo de  entrenamiento:  0.3967567808987751  ADVERTENCIA -  Costo subiendo\n",
            "Costo de  entrenamiento:  0.4128715699423706  ADVERTENCIA -  Costo subiendo\n",
            "Costo de  entrenamiento:  0.43259521760389413  ADVERTENCIA -  Costo subiendo\n",
            "Costo de  entrenamiento:  0.45679193432367726  ADVERTENCIA -  Costo subiendo\n",
            "Costo de  entrenamiento:  0.4864121061647151  ADVERTENCIA -  Costo subiendo\n",
            "Costo de  entrenamiento:  0.5223338027145216  ADVERTENCIA -  Costo subiendo\n",
            "Costo de  entrenamiento:  0.5650591255504481  ADVERTENCIA -  Costo subiendo\n",
            "Precisión: 0.650\n"
          ]
        }
      ]
    },
    {
      "cell_type": "markdown",
      "source": [
        "Tenemos que al cambiar la función de activación de una sigmoide a una tangente hiperbólica el costo de entrenamiento sube lo cual no es óptimo para el entrenamiento de esta red neuronal. Del mismo modo tenemos que la precision lograda es la misma que con la función sigmoide por lo tanto, es mejor hacer uso de la función sigmoide."
      ],
      "metadata": {
        "id": "rEtUiKB9Fe5a"
      }
    }
  ],
  "metadata": {
    "colab": {
      "provenance": [],
      "collapsed_sections": []
    },
    "kernelspec": {
      "display_name": "Python 3",
      "name": "python3"
    },
    "language_info": {
      "name": "python"
    }
  },
  "nbformat": 4,
  "nbformat_minor": 0
}